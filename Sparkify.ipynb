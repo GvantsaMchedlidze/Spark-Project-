{
 "cells": [
  {
   "cell_type": "markdown",
   "metadata": {},
   "source": [
    "# Sparkify Project Workspace\n",
    "This workspace contains a tiny subset (128MB) of the full dataset available (12GB). Feel free to use this workspace to build your project, or to explore a smaller subset with Spark before deploying your cluster on the cloud. Instructions for setting up your Spark cluster is included in the last lesson of the Extracurricular Spark Course content.\n",
    "\n",
    "You can follow the steps below to guide your data analysis and model building portion of this project."
   ]
  },
  {
   "cell_type": "code",
   "execution_count": 1,
   "metadata": {},
   "outputs": [],
   "source": [
    "# import libraries\n",
    "import pyspark\n",
    "from pyspark import SparkConf\n",
    "from pyspark.sql import SparkSession\n",
    "\n",
    "from pyspark.sql.functions import udf\n",
    "from pyspark.sql.types import StringType\n",
    "from pyspark.sql.types import IntegerType\n",
    "from pyspark.sql import Window\n",
    "from pyspark.sql.functions import isnan, count, when, col, desc, udf, col, sort_array, asc, avg\n",
    "from pyspark.sql.functions import sum as Fsum\n",
    "from pyspark.sql.window import Window\n",
    "from pyspark.sql.types import IntegerType\n",
    "\n",
    "import datetime\n",
    "\n",
    "import numpy as np\n",
    "import pandas as pd\n",
    "%matplotlib inline\n",
    "import matplotlib.pyplot as plt"
   ]
  },
  {
   "cell_type": "code",
   "execution_count": 2,
   "metadata": {},
   "outputs": [],
   "source": [
    "# create a Spark session\n",
    "spark = SparkSession \\\n",
    "    .builder \\\n",
    "    .appName(\"Sparkify Project \") \\\n",
    "    .getOrCreate()"
   ]
  },
  {
   "cell_type": "code",
   "execution_count": 3,
   "metadata": {},
   "outputs": [
    {
     "data": {
      "text/plain": [
       "[('spark.app.name', 'Sparkify Project '),\n",
       " ('spark.driver.port', '34649'),\n",
       " ('spark.driver.host', '067c39e682d6'),\n",
       " ('spark.app.id', 'local-1592196560546'),\n",
       " ('spark.rdd.compress', 'True'),\n",
       " ('spark.serializer.objectStreamReset', '100'),\n",
       " ('spark.master', 'local[*]'),\n",
       " ('spark.executor.id', 'driver'),\n",
       " ('spark.submit.deployMode', 'client'),\n",
       " ('spark.ui.showConsoleProgress', 'true')]"
      ]
     },
     "execution_count": 3,
     "metadata": {},
     "output_type": "execute_result"
    }
   ],
   "source": [
    "spark.sparkContext.getConf().getAll()"
   ]
  },
  {
   "cell_type": "code",
   "execution_count": 4,
   "metadata": {},
   "outputs": [
    {
     "data": {
      "text/html": [
       "\n",
       "            <div>\n",
       "                <p><b>SparkSession - in-memory</b></p>\n",
       "                \n",
       "        <div>\n",
       "            <p><b>SparkContext</b></p>\n",
       "\n",
       "            <p><a href=\"http://067c39e682d6:4040\">Spark UI</a></p>\n",
       "\n",
       "            <dl>\n",
       "              <dt>Version</dt>\n",
       "                <dd><code>v2.4.3</code></dd>\n",
       "              <dt>Master</dt>\n",
       "                <dd><code>local[*]</code></dd>\n",
       "              <dt>AppName</dt>\n",
       "                <dd><code>Sparkify Project </code></dd>\n",
       "            </dl>\n",
       "        </div>\n",
       "        \n",
       "            </div>\n",
       "        "
      ],
      "text/plain": [
       "<pyspark.sql.session.SparkSession at 0x7f07b58c14e0>"
      ]
     },
     "execution_count": 4,
     "metadata": {},
     "output_type": "execute_result"
    }
   ],
   "source": [
    "spark"
   ]
  },
  {
   "cell_type": "markdown",
   "metadata": {},
   "source": [
    "# Load and Clean Dataset\n",
    "In this workspace, the mini-dataset file is `mini_sparkify_event_data.json`. Load and clean the dataset, checking for invalid or missing data - for example, records without userids or sessionids. "
   ]
  },
  {
   "cell_type": "code",
   "execution_count": 5,
   "metadata": {},
   "outputs": [],
   "source": [
    "path = \"mini_sparkify_event_data.json\"\n",
    "event_data = spark.read.json(path)"
   ]
  },
  {
   "cell_type": "code",
   "execution_count": 6,
   "metadata": {},
   "outputs": [
    {
     "name": "stdout",
     "output_type": "stream",
     "text": [
      "root\n",
      " |-- artist: string (nullable = true)\n",
      " |-- auth: string (nullable = true)\n",
      " |-- firstName: string (nullable = true)\n",
      " |-- gender: string (nullable = true)\n",
      " |-- itemInSession: long (nullable = true)\n",
      " |-- lastName: string (nullable = true)\n",
      " |-- length: double (nullable = true)\n",
      " |-- level: string (nullable = true)\n",
      " |-- location: string (nullable = true)\n",
      " |-- method: string (nullable = true)\n",
      " |-- page: string (nullable = true)\n",
      " |-- registration: long (nullable = true)\n",
      " |-- sessionId: long (nullable = true)\n",
      " |-- song: string (nullable = true)\n",
      " |-- status: long (nullable = true)\n",
      " |-- ts: long (nullable = true)\n",
      " |-- userAgent: string (nullable = true)\n",
      " |-- userId: string (nullable = true)\n",
      "\n"
     ]
    }
   ],
   "source": [
    "event_data.printSchema()"
   ]
  },
  {
   "cell_type": "code",
   "execution_count": 7,
   "metadata": {},
   "outputs": [
    {
     "data": {
      "text/plain": [
       "286500"
      ]
     },
     "execution_count": 7,
     "metadata": {},
     "output_type": "execute_result"
    }
   ],
   "source": [
    "event_data.count()"
   ]
  },
  {
   "cell_type": "code",
   "execution_count": 8,
   "metadata": {},
   "outputs": [
    {
     "data": {
      "text/plain": [
       "18"
      ]
     },
     "execution_count": 8,
     "metadata": {},
     "output_type": "execute_result"
    }
   ],
   "source": [
    "len(event_data.columns)"
   ]
  },
  {
   "cell_type": "code",
   "execution_count": 9,
   "metadata": {},
   "outputs": [
    {
     "data": {
      "text/plain": [
       "[Row(artist='Martha Tilston', auth='Logged In', firstName='Colin', gender='M', itemInSession=50, lastName='Freeman', length=277.89016, level='paid', location='Bakersfield, CA', method='PUT', page='NextSong', registration=1538173362000, sessionId=29, song='Rockpools', status=200, ts=1538352117000, userAgent='Mozilla/5.0 (Windows NT 6.1; WOW64; rv:31.0) Gecko/20100101 Firefox/31.0', userId='30'),\n",
       " Row(artist='Five Iron Frenzy', auth='Logged In', firstName='Micah', gender='M', itemInSession=79, lastName='Long', length=236.09424, level='free', location='Boston-Cambridge-Newton, MA-NH', method='PUT', page='NextSong', registration=1538331630000, sessionId=8, song='Canada', status=200, ts=1538352180000, userAgent='\"Mozilla/5.0 (Windows NT 6.1; WOW64) AppleWebKit/537.36 (KHTML, like Gecko) Chrome/37.0.2062.103 Safari/537.36\"', userId='9')]"
      ]
     },
     "execution_count": 9,
     "metadata": {},
     "output_type": "execute_result"
    }
   ],
   "source": [
    "event_data.take(2)"
   ]
  },
  {
   "cell_type": "code",
   "execution_count": 10,
   "metadata": {},
   "outputs": [
    {
     "name": "stdout",
     "output_type": "stream",
     "text": [
      "+-------+-----------------+------+---------+------+------------------+--------+-----------------+------+--------+------+------+--------------------+-----------------+--------+------------------+--------------------+---------+-----------------+\n",
      "|summary|           artist|  auth|firstName|gender|     itemInSession|lastName|           length| level|location|method|  page|        registration|        sessionId|    song|            status|                  ts|userAgent|           userId|\n",
      "+-------+-----------------+------+---------+------+------------------+--------+-----------------+------+--------+------+------+--------------------+-----------------+--------+------------------+--------------------+---------+-----------------+\n",
      "|  count|           228108|286500|   278154|278154|            286500|  278154|           228108|286500|  278154|286500|286500|              278154|           286500|  228108|            286500|              286500|   278154|           286500|\n",
      "|   mean|551.0852017937219|  null|     null|  null|114.41421291448516|    null|249.1171819778458|  null|    null|  null|  null|1.535358834084427...|1041.526554973822|Infinity|210.05459685863875|1.540956889810483...|     null|59682.02278593872|\n",
      "+-------+-----------------+------+---------+------+------------------+--------+-----------------+------+--------+------+------+--------------------+-----------------+--------+------------------+--------------------+---------+-----------------+\n",
      "only showing top 2 rows\n",
      "\n"
     ]
    }
   ],
   "source": [
    "event_data.describe().show(2)"
   ]
  },
  {
   "cell_type": "code",
   "execution_count": 11,
   "metadata": {},
   "outputs": [
    {
     "name": "stdout",
     "output_type": "stream",
     "text": [
      "+------+\n",
      "|userId|\n",
      "+------+\n",
      "|      |\n",
      "|    10|\n",
      "|   100|\n",
      "|100001|\n",
      "|100002|\n",
      "|100003|\n",
      "|100004|\n",
      "|100005|\n",
      "|100006|\n",
      "|100007|\n",
      "+------+\n",
      "only showing top 10 rows\n",
      "\n"
     ]
    }
   ],
   "source": [
    "event_data.select(\"userId\").dropDuplicates().sort(\"userId\").show(10)"
   ]
  },
  {
   "cell_type": "code",
   "execution_count": 12,
   "metadata": {},
   "outputs": [
    {
     "data": {
      "text/plain": [
       "226"
      ]
     },
     "execution_count": 12,
     "metadata": {},
     "output_type": "execute_result"
    }
   ],
   "source": [
    "event_data.select(\"userId\").dropDuplicates().sort(\"userId\").count()"
   ]
  },
  {
   "cell_type": "code",
   "execution_count": 13,
   "metadata": {},
   "outputs": [
    {
     "name": "stdout",
     "output_type": "stream",
     "text": [
      "+---------+\n",
      "|sessionId|\n",
      "+---------+\n",
      "|        1|\n",
      "|        2|\n",
      "|        3|\n",
      "|        4|\n",
      "|        5|\n",
      "|        6|\n",
      "|        7|\n",
      "|        8|\n",
      "|        9|\n",
      "|       10|\n",
      "+---------+\n",
      "only showing top 10 rows\n",
      "\n"
     ]
    }
   ],
   "source": [
    "event_data.select(\"sessionId\").dropDuplicates().sort(\"sessionId\").show(10)"
   ]
  },
  {
   "cell_type": "code",
   "execution_count": 14,
   "metadata": {},
   "outputs": [],
   "source": [
    "user_log_valid = event_data.dropna(how = \"any\", subset = [\"userId\", \"sessionId\"])"
   ]
  },
  {
   "cell_type": "code",
   "execution_count": 15,
   "metadata": {},
   "outputs": [
    {
     "data": {
      "text/plain": [
       "286500"
      ]
     },
     "execution_count": 15,
     "metadata": {},
     "output_type": "execute_result"
    }
   ],
   "source": [
    "user_log_valid.count()"
   ]
  },
  {
   "cell_type": "code",
   "execution_count": 16,
   "metadata": {},
   "outputs": [],
   "source": [
    "user_log_valid = user_log_valid.filter(user_log_valid[\"userId\"] != \"\")"
   ]
  },
  {
   "cell_type": "code",
   "execution_count": 17,
   "metadata": {},
   "outputs": [
    {
     "data": {
      "text/plain": [
       "278154"
      ]
     },
     "execution_count": 17,
     "metadata": {},
     "output_type": "execute_result"
    }
   ],
   "source": [
    "user_log_valid.count()"
   ]
  },
  {
   "cell_type": "code",
   "execution_count": 18,
   "metadata": {},
   "outputs": [
    {
     "name": "stdout",
     "output_type": "stream",
     "text": [
      "+--------------------+\n",
      "|                page|\n",
      "+--------------------+\n",
      "|               About|\n",
      "|          Add Friend|\n",
      "|     Add to Playlist|\n",
      "|              Cancel|\n",
      "|Cancellation Conf...|\n",
      "|           Downgrade|\n",
      "|               Error|\n",
      "|                Help|\n",
      "|                Home|\n",
      "|              Logout|\n",
      "|            NextSong|\n",
      "|         Roll Advert|\n",
      "|       Save Settings|\n",
      "|            Settings|\n",
      "|    Submit Downgrade|\n",
      "|      Submit Upgrade|\n",
      "|         Thumbs Down|\n",
      "|           Thumbs Up|\n",
      "|             Upgrade|\n",
      "+--------------------+\n",
      "\n"
     ]
    }
   ],
   "source": [
    "user_log_valid.select('page').dropDuplicates().sort(\"page\").show(50)"
   ]
  },
  {
   "cell_type": "code",
   "execution_count": 19,
   "metadata": {},
   "outputs": [],
   "source": [
    "out_path = \"mini_sparkify_event_data_cleaned0.csv\"\n",
    "user_log_valid.write.save(out_path, format=\"csv\", header=True)"
   ]
  },
  {
   "cell_type": "code",
   "execution_count": 20,
   "metadata": {},
   "outputs": [],
   "source": [
    "event_data_1 = spark.read.csv(out_path, header=True)"
   ]
  },
  {
   "cell_type": "code",
   "execution_count": 21,
   "metadata": {},
   "outputs": [
    {
     "data": {
      "text/plain": [
       "[Row(artist='Martha Tilston', auth='Logged In', firstName='Colin', gender='M', itemInSession='50', lastName='Freeman', length='277.89016', level='paid', location='Bakersfield, CA', method='PUT', page='NextSong', registration='1538173362000', sessionId='29', song='Rockpools', status='200', ts='1538352117000', userAgent='Mozilla/5.0 (Windows NT 6.1; WOW64; rv:31.0) Gecko/20100101 Firefox/31.0', userId='30'),\n",
       " Row(artist='Five Iron Frenzy', auth='Logged In', firstName='Micah', gender='M', itemInSession='79', lastName='Long', length='236.09424', level='free', location='Boston-Cambridge-Newton, MA-NH', method='PUT', page='NextSong', registration='1538331630000', sessionId='8', song='Canada', status='200', ts='1538352180000', userAgent='\"Mozilla/5.0 (Windows NT 6.1; WOW64) AppleWebKit/537.36 (KHTML, like Gecko) Chrome/37.0.2062.103 Safari/537.36\"', userId='9')]"
      ]
     },
     "execution_count": 21,
     "metadata": {},
     "output_type": "execute_result"
    }
   ],
   "source": [
    "event_data_1.take(2)"
   ]
  },
  {
   "cell_type": "markdown",
   "metadata": {},
   "source": [
    "# Exploratory Data Analysis\n",
    "When you're working with the full dataset, perform EDA by loading a small subset of the data and doing basic manipulations within Spark. In this workspace, you are already provided a small subset of data you can explore.\n",
    "\n",
    "### Define Churn\n",
    "\n",
    "Once you've done some preliminary analysis, create a column `Churn` to use as the label for your model. I suggest using the `Cancellation Confirmation` events to define your churn, which happen for both paid and free users. As a bonus task, you can also look into the `Downgrade` events.\n",
    "\n",
    "### Explore Data\n",
    "Once you've defined churn, perform some exploratory data analysis to observe the behavior for users who stayed vs users who churned. You can start by exploring aggregates on these two groups of users, observing how much of a specific action they experienced per a certain time unit or number of songs played."
   ]
  },
  {
   "cell_type": "code",
   "execution_count": 22,
   "metadata": {},
   "outputs": [],
   "source": [
    "import numpy as np\n",
    "import pandas as pd\n",
    "import matplotlib.pyplot as plt\n",
    "%matplotlib inline"
   ]
  },
  {
   "cell_type": "code",
   "execution_count": 23,
   "metadata": {},
   "outputs": [],
   "source": [
    "# Pie chart, where the slices will be ordered and plotted counter-clockwise:\n",
    "def drawpie(axes, labels, sizes,Title,colors):\n",
    "    #fig1, ax1 = plt.subplots()\n",
    "    axes.pie(sizes, labels=labels, autopct='%1.1f%%',colors=colors,\n",
    "        shadow=False, startangle=90,)\n",
    "    axes.axis('equal')  # Equal aspect ratio ensures that pie is drawn as a circle.\n",
    "    axes.set_title(Title)\n"
   ]
  },
  {
   "cell_type": "code",
   "execution_count": 24,
   "metadata": {},
   "outputs": [
    {
     "name": "stdout",
     "output_type": "stream",
     "text": [
      "2055\n",
      "63\n",
      "52\n",
      "52\n"
     ]
    }
   ],
   "source": [
    "print(event_data.filter(\"page = 'Downgrade'\").count())\n",
    "print(event_data.filter(\"page = 'Submit Downgrade'\").count())\n",
    "print(event_data.filter(\"page = 'Cancel'\").count())\n",
    "print(event_data.filter(\"page = 'Cancellation Confirmation'\").count())"
   ]
  },
  {
   "cell_type": "code",
   "execution_count": 25,
   "metadata": {},
   "outputs": [
    {
     "name": "stdout",
     "output_type": "stream",
     "text": [
      "+-----+------+\n",
      "|Churn| count|\n",
      "+-----+------+\n",
      "|    1|    52|\n",
      "|    0|278102|\n",
      "+-----+------+\n",
      "\n"
     ]
    }
   ],
   "source": [
    "flag_Churn_event = udf(lambda x: 1 if x == \"Cancellation Confirmation\" else 0, IntegerType())\n",
    "user_log_valid = user_log_valid.withColumn(\"Churn\", flag_Churn_event(\"page\"))\n",
    "user_log_valid.groupBy('Churn').count().show()"
   ]
  },
  {
   "cell_type": "code",
   "execution_count": 26,
   "metadata": {},
   "outputs": [
    {
     "name": "stdout",
     "output_type": "stream",
     "text": [
      "+----------+------+\n",
      "|downgraded| count|\n",
      "+----------+------+\n",
      "|         1|    63|\n",
      "|         0|278091|\n",
      "+----------+------+\n",
      "\n"
     ]
    }
   ],
   "source": [
    "flag_downgrade_event = udf(lambda x: 1 if x == \"Submit Downgrade\" else 0, IntegerType())\n",
    "user_log_valid = user_log_valid.withColumn(\"downgraded\", flag_downgrade_event(\"page\"))\n",
    "user_log_valid.groupBy('downgraded').count().show()"
   ]
  },
  {
   "cell_type": "code",
   "execution_count": 27,
   "metadata": {},
   "outputs": [
    {
     "name": "stdout",
     "output_type": "stream",
     "text": [
      "+------+-------------+\n",
      "|gender|count(userId)|\n",
      "+------+-------------+\n",
      "|     F|          104|\n",
      "|     M|          121|\n",
      "+------+-------------+\n",
      "\n"
     ]
    }
   ],
   "source": [
    "user_by_gender = user_log_valid.select('userId','gender') \\\n",
    "                .distinct() \\\n",
    "                .groupBy('gender') \\\n",
    "                .agg({'userId':'count'}) \\\n",
    "                .show()"
   ]
  },
  {
   "cell_type": "code",
   "execution_count": 28,
   "metadata": {},
   "outputs": [
    {
     "name": "stdout",
     "output_type": "stream",
     "text": [
      "+------+-------------+\n",
      "|gender|count(userId)|\n",
      "+------+-------------+\n",
      "|     F|           20|\n",
      "|     M|           32|\n",
      "+------+-------------+\n",
      "\n"
     ]
    }
   ],
   "source": [
    "user_churn_by_gender = user_log_valid.filter(\"Churn = 1\").select('userId','gender') \\\n",
    "                .distinct() \\\n",
    "                .groupBy('gender') \\\n",
    "                .agg({'userId':'count'}) \\\n",
    "                .show()"
   ]
  },
  {
   "cell_type": "code",
   "execution_count": 29,
   "metadata": {},
   "outputs": [],
   "source": [
    "user_downgraded = user_log_valid.select('userId','downgraded') \\\n",
    "                .distinct() \\\n",
    "                .groupBy('downgraded') \\\n",
    "                .agg({'userId':'count'}) \\\n",
    "                .toPandas()\n",
    "user_churn = user_log_valid.select('userId','Churn') \\\n",
    "                .distinct() \\\n",
    "                .groupBy('Churn') \\\n",
    "                .agg({'userId':'count'}) \\\n",
    "                .toPandas()\n",
    "\n"
   ]
  },
  {
   "cell_type": "code",
   "execution_count": 30,
   "metadata": {},
   "outputs": [
    {
     "data": {
      "text/plain": [
       "0     49\n",
       "1    225\n",
       "Name: count(userId), dtype: int64"
      ]
     },
     "execution_count": 30,
     "metadata": {},
     "output_type": "execute_result"
    }
   ],
   "source": [
    "user_downgraded.iloc[:,1]"
   ]
  },
  {
   "cell_type": "code",
   "execution_count": 31,
   "metadata": {},
   "outputs": [
    {
     "data": {
      "image/png": "[encoded data removed]",
      "text/plain": [
       "<matplotlib.figure.Figure at 0x7f07b58e2c88>"
      ]
     },
     "metadata": {},
     "output_type": "display_data"
    }
   ],
   "source": [
    "# Create the figure with one row and two columns. Figsize will define the figure size\n",
    "fig, axes= plt.subplots(nrows=1, ncols=2, figsize=(15,4))\n",
    "\n",
    "labels_churned = ['churned  users','active users']\n",
    "labels_downgraded = ['downgraded  users','active users']\n",
    "\n",
    "\n",
    "drawpie(axes[0],labels_churned,user_churn.iloc[:,1],'Curned',['red','Green'])\n",
    "drawpie(axes[1],labels_downgraded,user_downgraded.iloc[:,1],'Downgraded',['Orange','Green'])\n",
    "\n",
    "# Adjust the space between the two charts\n",
    "plt.subplots_adjust(wspace=0.5)\n",
    "\n",
    "plt.show()\n"
   ]
  },
  {
   "cell_type": "code",
   "execution_count": 32,
   "metadata": {},
   "outputs": [
    {
     "name": "stdout",
     "output_type": "stream",
     "text": [
      "+-----+------+\n",
      "|phase| count|\n",
      "+-----+------+\n",
      "|    0|214991|\n",
      "|    1| 47695|\n",
      "|    3|  7467|\n",
      "|    2|  8001|\n",
      "+-----+------+\n",
      "\n"
     ]
    }
   ],
   "source": [
    "windowval = Window.partitionBy(\"userId\").orderBy(desc(\"ts\")).rangeBetween(Window.unboundedPreceding, 0)\n",
    "user_log_valid = user_log_valid.withColumn(\"phase\", Fsum(\"downgraded\").over(windowval))\n",
    "user_log_valid.groupBy('phase').count().show()"
   ]
  },
  {
   "cell_type": "code",
   "execution_count": 33,
   "metadata": {},
   "outputs": [],
   "source": [
    "get_hour = udf(lambda x: datetime.datetime.fromtimestamp(x / 1000.0). hour)"
   ]
  },
  {
   "cell_type": "code",
   "execution_count": 34,
   "metadata": {},
   "outputs": [],
   "source": [
    "event_data = user_log_valid.withColumn(\"hour\", get_hour(event_data.ts))"
   ]
  },
  {
   "cell_type": "code",
   "execution_count": 35,
   "metadata": {},
   "outputs": [],
   "source": [
    "songs_in_hour_m =event_data.filter(event_data.gender == \"M\").filter(event_data.page == \"NextSong\").groupby(event_data.hour).count().orderBy(event_data.hour.cast(\"float\"))"
   ]
  },
  {
   "cell_type": "code",
   "execution_count": 36,
   "metadata": {},
   "outputs": [],
   "source": [
    "songs_in_hour_f = event_data.filter(event_data.gender == \"F\").filter(event_data.page == \"NextSong\").groupby(event_data.hour).count().orderBy(event_data.hour.cast(\"float\"))"
   ]
  },
  {
   "cell_type": "code",
   "execution_count": 37,
   "metadata": {},
   "outputs": [],
   "source": [
    "songs_in_hour_pd_m = songs_in_hour_m.toPandas()\n",
    "songs_in_hour_pd_m.hour = pd.to_numeric(songs_in_hour_pd_m.hour)"
   ]
  },
  {
   "cell_type": "code",
   "execution_count": 38,
   "metadata": {},
   "outputs": [],
   "source": [
    "songs_in_hour_pd_f = songs_in_hour_f.toPandas()\n",
    "songs_in_hour_pd_f.hour = pd.to_numeric(songs_in_hour_pd_f.hour)"
   ]
  },
  {
   "cell_type": "code",
   "execution_count": 39,
   "metadata": {},
   "outputs": [
    {
     "data": {
      "text/plain": [
       "count      24.000000\n",
       "mean     5279.000000\n",
       "std       614.142669\n",
       "min      4651.000000\n",
       "25%      4758.750000\n",
       "50%      4939.500000\n",
       "75%      5941.500000\n",
       "max      6247.000000\n",
       "Name: count, dtype: float64"
      ]
     },
     "execution_count": 39,
     "metadata": {},
     "output_type": "execute_result"
    }
   ],
   "source": [
    "songs_in_hour_pd_f['count'].describe()"
   ]
  },
  {
   "cell_type": "code",
   "execution_count": 40,
   "metadata": {},
   "outputs": [
    {
     "data": {
      "text/plain": [
       "count      24.000000\n",
       "mean     4225.500000\n",
       "std       662.392961\n",
       "min      3360.000000\n",
       "25%      3566.500000\n",
       "50%      4188.500000\n",
       "75%      4711.000000\n",
       "max      5389.000000\n",
       "Name: count, dtype: float64"
      ]
     },
     "execution_count": 40,
     "metadata": {},
     "output_type": "execute_result"
    }
   ],
   "source": [
    "songs_in_hour_pd_m['count'].describe()"
   ]
  },
  {
   "cell_type": "code",
   "execution_count": 41,
   "metadata": {},
   "outputs": [
    {
     "data": {
      "text/plain": [
       "<matplotlib.legend.Legend at 0x7f07b4ce3e10>"
      ]
     },
     "execution_count": 41,
     "metadata": {},
     "output_type": "execute_result"
    },
    {
     "data": {
      "image/png": "[encoded data removed]",
      "text/plain": [
       "<matplotlib.figure.Figure at 0x7f07b4d392b0>"
      ]
     },
     "metadata": {
      "needs_background": "light"
     },
     "output_type": "display_data"
    }
   ],
   "source": [
    "fig = plt.figure(figsize=(15,7))\n",
    "ax = fig.add_subplot(111)\n",
    "ax.set_ylabel(\"Songs played\", fontsize=15)\n",
    "ax.set_xlabel('Hour', fontsize=15)\n",
    "ax.set_title('Number of songs played vs hour played', fontsize=20)   \n",
    "plt.scatter(songs_in_hour_pd_m[\"hour\"], songs_in_hour_pd_m[\"count\"],label ='Male')\n",
    "plt.scatter(songs_in_hour_pd_f[\"hour\"], songs_in_hour_pd_f[\"count\"],label ='Feale')\n",
    "plt.xlim(-1, 24);\n",
    "plt.xlim(-1, 24);\n",
    "plt.ylim(0, 2 * max(songs_in_hour_pd_m[\"count\"]))\n",
    "plt.xlabel(\"Hour\")\n",
    "plt.ylabel(\"Songs played\");\n",
    "ax.legend( ['Male','Female' ] )"
   ]
  },
  {
   "cell_type": "code",
   "execution_count": 42,
   "metadata": {},
   "outputs": [
    {
     "data": {
      "image/png": "[encoded data removed]",
      "text/plain": [
       "<matplotlib.figure.Figure at 0x7f07b4ab6128>"
      ]
     },
     "metadata": {
      "needs_background": "light"
     },
     "output_type": "display_data"
    }
   ],
   "source": [
    "df_count = user_log_valid.filter(user_log_valid.Churn == 1).select('userId','gender','level').groupby('gender','level').count().toPandas().sort_values(by='count')\n",
    "fig = plt.figure(figsize=(5,5))\n",
    "ax = fig.gca()\n",
    "plt.rcParams[\"font.size\"] = \"15\"\n",
    "table = df_count.pivot(index='gender', columns='level', values='count')\n",
    "\n",
    "bar_1 = table.iloc[0]\n",
    "\n",
    "bar_2 = table.iloc[1]\n",
    "# Range com a quantidade de itens das barras\n",
    "x_pos = np.arange(len(bar_1))\n",
    "\n",
    "first_bar = plt.bar(x_pos, bar_1, 0.5, color='indianred')\n",
    "second_bar = plt.bar(x_pos, bar_2, 0.5,color='seagreen', bottom=bar_1)\n",
    "# Definir position and labels for the X axis\n",
    "plt.xticks(x_pos+0.25, ('Free','Paid'))\n",
    "plt.legend((first_bar, second_bar), ('Female', 'Male'))\n",
    "plt.grid(False)\n",
    "plt.show()"
   ]
  },
  {
   "cell_type": "code",
   "execution_count": 43,
   "metadata": {},
   "outputs": [
    {
     "data": {
      "text/html": [
       "<div>\n",
       "<style scoped>\n",
       "    .dataframe tbody tr th:only-of-type {\n",
       "        vertical-align: middle;\n",
       "    }\n",
       "\n",
       "    .dataframe tbody tr th {\n",
       "        vertical-align: top;\n",
       "    }\n",
       "\n",
       "    .dataframe thead th {\n",
       "        text-align: right;\n",
       "    }\n",
       "</style>\n",
       "<table border=\"1\" class=\"dataframe\">\n",
       "  <thead>\n",
       "    <tr style=\"text-align: right;\">\n",
       "      <th>level</th>\n",
       "      <th>free</th>\n",
       "      <th>paid</th>\n",
       "    </tr>\n",
       "    <tr>\n",
       "      <th>gender</th>\n",
       "      <th></th>\n",
       "      <th></th>\n",
       "    </tr>\n",
       "  </thead>\n",
       "  <tbody>\n",
       "    <tr>\n",
       "      <th>F</th>\n",
       "      <td>7</td>\n",
       "      <td>13</td>\n",
       "    </tr>\n",
       "    <tr>\n",
       "      <th>M</th>\n",
       "      <td>14</td>\n",
       "      <td>18</td>\n",
       "    </tr>\n",
       "  </tbody>\n",
       "</table>\n",
       "</div>"
      ],
      "text/plain": [
       "level   free  paid\n",
       "gender            \n",
       "F          7    13\n",
       "M         14    18"
      ]
     },
     "execution_count": 43,
     "metadata": {},
     "output_type": "execute_result"
    }
   ],
   "source": [
    "table.head()"
   ]
  },
  {
   "cell_type": "code",
   "execution_count": 44,
   "metadata": {},
   "outputs": [],
   "source": [
    "df_count_full = user_log_valid.select('userId','gender','level').groupby('userID','gender','level').count().toPandas().sort_values(by='count')\n"
   ]
  },
  {
   "cell_type": "code",
   "execution_count": 45,
   "metadata": {},
   "outputs": [
    {
     "data": {
      "text/plain": [
       "121"
      ]
     },
     "execution_count": 45,
     "metadata": {},
     "output_type": "execute_result"
    }
   ],
   "source": [
    "df_count_full[df_count_full.gender=='M'].groupby(['userID']).count()['level'].shape[0]"
   ]
  },
  {
   "cell_type": "code",
   "execution_count": 46,
   "metadata": {},
   "outputs": [
    {
     "data": {
      "text/html": [
       "<div>\n",
       "<style scoped>\n",
       "    .dataframe tbody tr th:only-of-type {\n",
       "        vertical-align: middle;\n",
       "    }\n",
       "\n",
       "    .dataframe tbody tr th {\n",
       "        vertical-align: top;\n",
       "    }\n",
       "\n",
       "    .dataframe thead th {\n",
       "        text-align: right;\n",
       "    }\n",
       "</style>\n",
       "<table border=\"1\" class=\"dataframe\">\n",
       "  <thead>\n",
       "    <tr style=\"text-align: right;\">\n",
       "      <th></th>\n",
       "      <th></th>\n",
       "      <th>userID</th>\n",
       "      <th>count</th>\n",
       "    </tr>\n",
       "    <tr>\n",
       "      <th>gender</th>\n",
       "      <th>level</th>\n",
       "      <th></th>\n",
       "      <th></th>\n",
       "    </tr>\n",
       "  </thead>\n",
       "  <tbody>\n",
       "    <tr>\n",
       "      <th rowspan=\"2\" valign=\"top\">F</th>\n",
       "      <th>free</th>\n",
       "      <td>89</td>\n",
       "      <td>89</td>\n",
       "    </tr>\n",
       "    <tr>\n",
       "      <th>paid</th>\n",
       "      <td>79</td>\n",
       "      <td>79</td>\n",
       "    </tr>\n",
       "    <tr>\n",
       "      <th rowspan=\"2\" valign=\"top\">M</th>\n",
       "      <th>free</th>\n",
       "      <td>106</td>\n",
       "      <td>106</td>\n",
       "    </tr>\n",
       "    <tr>\n",
       "      <th>paid</th>\n",
       "      <td>86</td>\n",
       "      <td>86</td>\n",
       "    </tr>\n",
       "  </tbody>\n",
       "</table>\n",
       "</div>"
      ],
      "text/plain": [
       "              userID  count\n",
       "gender level               \n",
       "F      free       89     89\n",
       "       paid       79     79\n",
       "M      free      106    106\n",
       "       paid       86     86"
      ]
     },
     "execution_count": 46,
     "metadata": {},
     "output_type": "execute_result"
    }
   ],
   "source": [
    "df_count_full.groupby(['gender','level']).count()"
   ]
  },
  {
   "cell_type": "code",
   "execution_count": 47,
   "metadata": {},
   "outputs": [
    {
     "name": "stdout",
     "output_type": "stream",
     "text": [
      "root\n",
      " |-- artist: string (nullable = true)\n",
      " |-- auth: string (nullable = true)\n",
      " |-- firstName: string (nullable = true)\n",
      " |-- gender: string (nullable = true)\n",
      " |-- itemInSession: long (nullable = true)\n",
      " |-- lastName: string (nullable = true)\n",
      " |-- length: double (nullable = true)\n",
      " |-- level: string (nullable = true)\n",
      " |-- location: string (nullable = true)\n",
      " |-- method: string (nullable = true)\n",
      " |-- page: string (nullable = true)\n",
      " |-- registration: long (nullable = true)\n",
      " |-- sessionId: long (nullable = true)\n",
      " |-- song: string (nullable = true)\n",
      " |-- status: long (nullable = true)\n",
      " |-- ts: long (nullable = true)\n",
      " |-- userAgent: string (nullable = true)\n",
      " |-- userId: string (nullable = true)\n",
      " |-- Churn: integer (nullable = true)\n",
      " |-- downgraded: integer (nullable = true)\n",
      " |-- phase: long (nullable = true)\n",
      "\n"
     ]
    }
   ],
   "source": [
    "user_log_valid.printSchema()"
   ]
  },
  {
   "cell_type": "code",
   "execution_count": null,
   "metadata": {},
   "outputs": [],
   "source": []
  },
  {
   "cell_type": "code",
   "execution_count": 48,
   "metadata": {},
   "outputs": [
    {
     "name": "stdout",
     "output_type": "stream",
     "text": [
      "+-------+------+------+---------+------+-------------+--------+------+------+--------+------+------+------------+---------+------+------+------+---------+------+------+----------+------+\n",
      "|summary|artist|  auth|firstName|gender|itemInSession|lastName|length| level|location|method|  page|registration|sessionId|  song|status|    ts|userAgent|userId| Churn|downgraded| phase|\n",
      "+-------+------+------+---------+------+-------------+--------+------+------+--------+------+------+------------+---------+------+------+------+---------+------+------+----------+------+\n",
      "|  count|228108|278154|   278154|278154|       278154|  278154|228108|278154|  278154|278154|278154|      278154|   278154|228108|278154|278154|   278154|278154|278154|    278154|278154|\n",
      "+-------+------+------+---------+------+-------------+--------+------+------+--------+------+------+------------+---------+------+------+------+---------+------+------+----------+------+\n",
      "only showing top 1 row\n",
      "\n"
     ]
    }
   ],
   "source": [
    "user_log_valid.describe().show(1)"
   ]
  },
  {
   "cell_type": "code",
   "execution_count": 49,
   "metadata": {},
   "outputs": [
    {
     "name": "stdout",
     "output_type": "stream",
     "text": [
      "+---------+------+\n",
      "|     auth| count|\n",
      "+---------+------+\n",
      "|Cancelled|    52|\n",
      "|Logged In|278102|\n",
      "+---------+------+\n",
      "\n"
     ]
    }
   ],
   "source": [
    "user_log_valid.groupBy('auth').count().show()"
   ]
  },
  {
   "cell_type": "code",
   "execution_count": 50,
   "metadata": {},
   "outputs": [
    {
     "name": "stdout",
     "output_type": "stream",
     "text": [
      "+--------------------+-----+\n",
      "|                page|count|\n",
      "+--------------------+-----+\n",
      "|Cancellation Conf...|   52|\n",
      "+--------------------+-----+\n",
      "\n"
     ]
    }
   ],
   "source": [
    "user_log_valid.filter(\"auth == 'Cancelled'\").groupBy('page').count().show()"
   ]
  },
  {
   "cell_type": "markdown",
   "metadata": {},
   "source": [
    "# Feature Engineering\n",
    "Once you've familiarized yourself with the data, build out the features you find promising to train your model on. To work with the full dataset, you can follow the following steps.\n",
    "- Write a script to extract the necessary features from the smaller subset of data\n",
    "- Ensure that your script is scalable, using the best practices discussed in Lesson 3\n",
    "- Try your script on the full data set, debugging your script if necessary\n",
    "\n",
    "If you are working in the classroom workspace, you can just extract features based on the small subset of data contained here. Be sure to transfer over this work to the larger dataset when you work on your Spark cluster."
   ]
  },
  {
   "cell_type": "code",
   "execution_count": 51,
   "metadata": {},
   "outputs": [],
   "source": [
    "def create_feature_df(df):\n",
    "    '''\n",
    "    -Input df\n",
    "    -OUTPUT features dataframe\n",
    "    heandled categorical variables using crosstable iteractions with userid\n",
    "    '''\n",
    "    print('Drop NaN values...')\n",
    "    df_valid = df.dropna(how = \"any\", subset = [\"gender\"])\n",
    "    \n",
    "    print(\"Creating features from 'gender'...\")\n",
    "    df_gender = df_valid.select('userId','gender').distinct()\\\n",
    "                        .withColumn('is_female', (df_valid.gender == 'F').cast(IntegerType()))\\\n",
    "                        .sort('userId')\\\n",
    "                        .select('userId','is_female')\n",
    "    \n",
    "    print(\"Creating features from 'page'...\")\n",
    "    pages = [row[0] for row in df_valid.select('page').distinct().collect()]\n",
    "\n",
    "    pages.remove('Cancel')\n",
    "    pages.remove('Cancellation Confirmation')\n",
    "    windowval = Window.partitionBy('userId')\n",
    "    df_page = df_valid\n",
    "    \n",
    "    for page in pages:\n",
    "        df_page = df_page.withColumn(page.replace(' ', ''),\n",
    "                                     Fsum((df_valid.page == page).cast(IntegerType())).over(windowval))\n",
    "    pages_2 = []\n",
    "    for page in pages:\n",
    "        pages_2.append(page.replace(' ',''))\n",
    "\n",
    "    df_page = df_page.select('userId', *pages_2).dropDuplicates().sort('userId')\n",
    "    \n",
    "    print(\"Creating features from 'itemInSession' and 'sessionId'...\")\n",
    "    df_songs = df_valid.select('userId', 'sessionId','itemInSession') \\\n",
    "     .groupby('userId', 'sessionId') \\\n",
    "                            .agg({'itemInSession':'max'}) \\\n",
    "                            .groupby('userId') \\\n",
    "                            .agg( Fsum('max(itemInSession)'), avg('max(itemInSession)'), count('sessionId') ) \\\n",
    "                            .withColumnRenamed('avg(max(itemInSession))','avg_count_songs_session') \\\n",
    "                            .withColumnRenamed('sum(max(itemInSession))','count_songs') \\\n",
    "                            .withColumnRenamed('count(sessionId)','count_sessions') \\\n",
    "                            .sort('userId')\n",
    "    \n",
    "    print(\"Creating features from 'status'...\")\n",
    "    status_list = [str(row[0]) for row in df_valid.select('status').distinct().collect()]\n",
    "    df_status = df_valid\n",
    "    for status in status_list:\n",
    "        df_status = df_status.withColumn('status_'+status,\n",
    "                                         Fsum((df_valid.status == status).cast(IntegerType())).over(windowval))\n",
    "    df_status = df_status.select('userId','status_307','status_404','status_200').distinct().sort('userId')\n",
    "    \n",
    "    print(\"Creating features from 'phase'...\")\n",
    "    phase_list = [str(row[0]) for row in df_valid.select('phase').distinct().collect()]\n",
    "    df_phase = df_valid\n",
    "    for phase in phase_list:\n",
    "        df_phase = df_phase.withColumn('phase_'+phase,\n",
    "                                         Fsum((df_valid.phase == phase).cast(IntegerType())).over(windowval))\n",
    "    df_phase = df_phase.select('userId','phase_0','phase_1','phase_2','phase_3').distinct().sort('userId')\n",
    "    \n",
    "    print(\"Creating features from 'level'...\")\n",
    "    df_level = df_valid.select('userId','level').distinct()\\\n",
    "                        .withColumn('user_level_paid', (df_valid.level == 'paid').cast(IntegerType()))\\\n",
    "                        .groupby('userId')\\\n",
    "                        .agg({'user_level_paid':'max'})\\\n",
    "                        .select('userId','max(user_level_paid)')\\\n",
    "                        .withColumnRenamed('max(user_level_paid)','hasPaid')\\\n",
    "                        .sort('userId')\n",
    "\n",
    "    print(\"Creating labels...\")\n",
    "    df_labels = df_valid.withColumn('label', Fsum('Churn').over(windowval))\n",
    "    df_labels = df_labels.select('userId', 'label').dropDuplicates().sort('userId')\n",
    "    \n",
    "    print(\"Joining all df together to df_features...\")\n",
    "    df_features = df_labels.select('userId', 'label')\\\n",
    "                    .dropDuplicates()\\\n",
    "                    .join(df_gender, \"userId\")\\\n",
    "                    .join(df_level, \"userId\")\\\n",
    "                    .join(df_page, \"userId\")\\\n",
    "                    .join(df_songs, \"userId\")\\\n",
    "                    .join(df_status, \"userId\")\\\n",
    "                    .join(df_phase, \"userId\")\\\n",
    "                    .dropDuplicates()\\\n",
    "                    .sort('userId')\n",
    "    \n",
    "    print(\"Returned df_features...\")\n",
    "    return df_features"
   ]
  },
  {
   "cell_type": "code",
   "execution_count": 52,
   "metadata": {},
   "outputs": [
    {
     "name": "stdout",
     "output_type": "stream",
     "text": [
      "Drop NaN values...\n",
      "Creating features from 'gender'...\n",
      "Creating features from 'page'...\n",
      "Creating features from 'itemInSession' and 'sessionId'...\n",
      "Creating features from 'status'...\n",
      "Creating features from 'phase'...\n",
      "Creating features from 'level'...\n",
      "Creating labels...\n",
      "Joining all df together to df_features...\n",
      "Returned df_features...\n"
     ]
    }
   ],
   "source": [
    "features_df = create_feature_df(user_log_valid)"
   ]
  },
  {
   "cell_type": "markdown",
   "metadata": {},
   "source": [
    "# Modeling\n",
    "Split the full dataset into train, test, and validation sets. Test out several of the machine learning methods you learned. Evaluate the accuracy of the various models, tuning parameters as necessary. Determine your winning model based on test accuracy and report results on the validation set. Since the churned users are a fairly small subset, I suggest using F1 score as the metric to optimize."
   ]
  },
  {
   "cell_type": "code",
   "execution_count": 53,
   "metadata": {},
   "outputs": [],
   "source": [
    "from pyspark.ml.tuning import CrossValidator, ParamGridBuilder\n",
    "from pyspark.ml.classification import LogisticRegression, DecisionTreeClassifier, RandomForestClassifier\n",
    "from pyspark.ml.feature import StandardScaler, VectorAssembler, Normalizer\n",
    "from pyspark.ml.evaluation import MulticlassClassificationEvaluator\n",
    "from pyspark.ml import Pipeline\n",
    "from pyspark.ml.feature import IndexToString, StringIndexer, VectorIndexer"
   ]
  },
  {
   "cell_type": "code",
   "execution_count": 54,
   "metadata": {},
   "outputs": [
    {
     "name": "stdout",
     "output_type": "stream",
     "text": [
      "['is_female', 'hasPaid', 'SubmitDowngrade', 'ThumbsDown', 'Home', 'Downgrade', 'RollAdvert', 'Logout', 'SaveSettings', 'About', 'Settings', 'AddtoPlaylist', 'AddFriend', 'NextSong', 'ThumbsUp', 'Help', 'Upgrade', 'Error', 'SubmitUpgrade', 'count_songs', 'avg_count_songs_session', 'count_sessions', 'status_307', 'status_404', 'status_200', 'phase_0', 'phase_1', 'phase_2', 'phase_3']\n"
     ]
    }
   ],
   "source": [
    "features = list(features_df.columns)\n",
    "features.remove('userId')\n",
    "features.remove('label')\n",
    "print(features)"
   ]
  },
  {
   "cell_type": "code",
   "execution_count": 55,
   "metadata": {},
   "outputs": [],
   "source": [
    "#Create a vectorassembler.\n",
    "assembler = VectorAssembler(inputCols=features, outputCol=\"FeaturesVec\")\n",
    "features_df = assembler.transform(features_df)"
   ]
  },
  {
   "cell_type": "code",
   "execution_count": 56,
   "metadata": {},
   "outputs": [],
   "source": [
    "#Normaliztion\n",
    "#scaler_q1 = Normalizer(inputCol=\"FeaturesVec\", outputCol=\"FeaturesVecNormalized\")\n",
    "#features_df = scaler_q1.transform(features_df)"
   ]
  },
  {
   "cell_type": "code",
   "execution_count": 57,
   "metadata": {},
   "outputs": [],
   "source": [
    "#Scaling\n",
    "scaler_q2 = StandardScaler(inputCol=\"FeaturesVec\", outputCol=\"FeaturesVecScaled_S\")\n",
    "scalerModel_q2 = scaler_q2.fit(features_df)\n",
    "features_df = scalerModel_q2.transform(features_df)"
   ]
  },
  {
   "cell_type": "code",
   "execution_count": 58,
   "metadata": {},
   "outputs": [],
   "source": [
    "#from pyspark.ml.feature import MinMaxScaler\n",
    "#scaler_q3 = MinMaxScaler(inputCol=\"FeaturesVec\", outputCol=\"FeaturesVecMinMaxScaler\")\n",
    "#scalerModel_q3 = scaler_q3.fit(features_df)\n",
    "#features_df = scalerModel_q3.transform(features_df)"
   ]
  },
  {
   "cell_type": "code",
   "execution_count": 59,
   "metadata": {},
   "outputs": [],
   "source": [
    "# split for train and test samples\n",
    "train, test = features_df.randomSplit([0.80, 0.20], seed=42)"
   ]
  },
  {
   "cell_type": "code",
   "execution_count": 60,
   "metadata": {},
   "outputs": [],
   "source": [
    "#Logistic regression\n",
    "lr =  LogisticRegression(labelCol='label',maxIter=5, regParam=0.0, elasticNetParam=0)\n",
    "pipeline = Pipeline(stages=[lr])"
   ]
  },
  {
   "cell_type": "code",
   "execution_count": 61,
   "metadata": {},
   "outputs": [],
   "source": [
    "paramGrid = ParamGridBuilder() \\\n",
    "    .addGrid(lr.featuresCol,['FeaturesVecScaled_S'])\\\n",
    "    .addGrid(lr.regParam,[0.0, 0.1]) \\\n",
    "    .build()\n",
    "\n",
    "\n",
    "crossval = CrossValidator(estimator=pipeline,\n",
    "                          estimatorParamMaps=paramGrid,\n",
    "                          evaluator=MulticlassClassificationEvaluator(metricName='f1'),\n",
    "                          numFolds=3)"
   ]
  },
  {
   "cell_type": "code",
   "execution_count": 62,
   "metadata": {},
   "outputs": [],
   "source": [
    "cvModel_1 = crossval.fit(train)"
   ]
  },
  {
   "cell_type": "code",
   "execution_count": 63,
   "metadata": {},
   "outputs": [
    {
     "data": {
      "text/plain": [
       "[0.6575524741067578, 0.6618365694481982]"
      ]
     },
     "execution_count": 63,
     "metadata": {},
     "output_type": "execute_result"
    }
   ],
   "source": [
    "cvModel_1.avgMetrics"
   ]
  },
  {
   "cell_type": "code",
   "execution_count": 64,
   "metadata": {},
   "outputs": [],
   "source": [
    "preds1 = cvModel_1.bestModel.transform(test)"
   ]
  },
  {
   "cell_type": "code",
   "execution_count": 65,
   "metadata": {},
   "outputs": [],
   "source": [
    "#DecisionTree\n",
    "dt = DecisionTreeClassifier(labelCol=\"label\")\n",
    "paramGrid = ParamGridBuilder() \\\n",
    "    .addGrid(dt.featuresCol,['FeaturesVecScaled_S'])\\\n",
    "    .addGrid(dt.maxBins,[8, 16, 24]) \\\n",
    "    .build()\n",
    "\n",
    "crossval = CrossValidator(estimator=dt,\n",
    "                          estimatorParamMaps=paramGrid,\n",
    "                          evaluator=MulticlassClassificationEvaluator(metricName='f1'),\n",
    "                          numFolds=3)"
   ]
  },
  {
   "cell_type": "code",
   "execution_count": 66,
   "metadata": {},
   "outputs": [],
   "source": [
    "cvModel_2 = crossval.fit(train)"
   ]
  },
  {
   "cell_type": "code",
   "execution_count": 67,
   "metadata": {},
   "outputs": [
    {
     "data": {
      "text/plain": [
       "[0.6490147178106728, 0.634400053269249, 0.6464270490419347]"
      ]
     },
     "execution_count": 67,
     "metadata": {},
     "output_type": "execute_result"
    }
   ],
   "source": [
    "cvModel_2.avgMetrics"
   ]
  },
  {
   "cell_type": "code",
   "execution_count": 68,
   "metadata": {},
   "outputs": [],
   "source": [
    "preds2 = cvModel_2.bestModel.transform(test)"
   ]
  },
  {
   "cell_type": "code",
   "execution_count": 69,
   "metadata": {},
   "outputs": [],
   "source": [
    "#Random Forest\n",
    "rf = RandomForestClassifier(labelCol='label', \n",
    "                            numTrees=10,\n",
    "                            seed=42)\n",
    "paramGrid = ParamGridBuilder() \\\n",
    "    .addGrid(rf.featuresCol,['FeaturesVecScaled_S'])\\\n",
    "    .addGrid(rf.maxDepth,[5, 10 ]) \\\n",
    "    .addGrid(rf.maxBins,[10, 50,75]) \\\n",
    "    .build()\n",
    "\n",
    "crossval = CrossValidator(estimator=rf,\n",
    "                          estimatorParamMaps=paramGrid,\n",
    "                          evaluator=MulticlassClassificationEvaluator(metricName='f1'),\n",
    "                          numFolds=3)"
   ]
  },
  {
   "cell_type": "code",
   "execution_count": 70,
   "metadata": {},
   "outputs": [],
   "source": [
    "cvModel_3 = crossval.fit(train)"
   ]
  },
  {
   "cell_type": "code",
   "execution_count": 71,
   "metadata": {},
   "outputs": [
    {
     "data": {
      "text/plain": [
       "[0.6687853856604427,\n",
       " 0.6756379179676723,\n",
       " 0.6942947699901443,\n",
       " 0.6656036077489862]"
      ]
     },
     "execution_count": 71,
     "metadata": {},
     "output_type": "execute_result"
    }
   ],
   "source": [
    "cvModel_3.avgMetrics"
   ]
  },
  {
   "cell_type": "code",
   "execution_count": 72,
   "metadata": {},
   "outputs": [],
   "source": [
    "preds3 = cvModel_3.bestModel.transform(test)"
   ]
  },
  {
   "cell_type": "code",
   "execution_count": 73,
   "metadata": {},
   "outputs": [
    {
     "name": "stdout",
     "output_type": "stream",
     "text": [
      "LogisticRegression\n",
      "F1 score: 0.7171293871136721\n",
      "Accuracy: 0.8043478260869565\n",
      " \n",
      "DecisionTreeClassifier\n",
      "F1 score: 0.6956521739130435\n",
      "Accuracy: 0.6956521739130435\n",
      " \n",
      "RandomForestClassifier\n",
      "F1 score: 0.6719867914144193\n",
      "Accuracy: 0.717391304347826\n"
     ]
    }
   ],
   "source": [
    "evaluator = MulticlassClassificationEvaluator(predictionCol=\"prediction\", labelCol=\"label\")\n",
    "f1_score = evaluator.evaluate(preds1, {evaluator.metricName: \"f1\"})\n",
    "accuracy = evaluator.evaluate(preds1, {evaluator.metricName: \"accuracy\"})\n",
    "print('LogisticRegression')\n",
    "print(\"F1 score: {}\".format(f1_score))\n",
    "print(\"Accuracy: {}\".format(accuracy))\n",
    "print(\" \")\n",
    "\n",
    "f1_score = evaluator.evaluate(preds2, {evaluator.metricName: \"f1\"})\n",
    "accuracy = evaluator.evaluate(preds2, {evaluator.metricName: \"accuracy\"})\n",
    "print('DecisionTreeClassifier')\n",
    "print(\"F1 score: {}\".format(f1_score))\n",
    "print(\"Accuracy: {}\".format(accuracy))\n",
    "print(\" \")\n",
    "\n",
    "f1_score = evaluator.evaluate(preds3, {evaluator.metricName: \"f1\"})\n",
    "accuracy = evaluator.evaluate(preds3, {evaluator.metricName: \"accuracy\"})\n",
    "print('RandomForestClassifier')\n",
    "print(\"F1 score: {}\".format(f1_score))\n",
    "print(\"Accuracy: {}\".format(accuracy))"
   ]
  },
  {
   "cell_type": "code",
   "execution_count": 80,
   "metadata": {},
   "outputs": [
    {
     "data": {
      "text/html": [
       "<div>\n",
       "<style scoped>\n",
       "    .dataframe tbody tr th:only-of-type {\n",
       "        vertical-align: middle;\n",
       "    }\n",
       "\n",
       "    .dataframe tbody tr th {\n",
       "        vertical-align: top;\n",
       "    }\n",
       "\n",
       "    .dataframe thead th {\n",
       "        text-align: right;\n",
       "    }\n",
       "</style>\n",
       "<table border=\"1\" class=\"dataframe\">\n",
       "  <thead>\n",
       "    <tr style=\"text-align: right;\">\n",
       "      <th></th>\n",
       "      <th>Feature</th>\n",
       "      <th>Importance</th>\n",
       "    </tr>\n",
       "  </thead>\n",
       "  <tbody>\n",
       "    <tr>\n",
       "      <th>12</th>\n",
       "      <td>AddFriend</td>\n",
       "      <td>0.177057</td>\n",
       "    </tr>\n",
       "    <tr>\n",
       "      <th>3</th>\n",
       "      <td>ThumbsDown</td>\n",
       "      <td>0.176900</td>\n",
       "    </tr>\n",
       "    <tr>\n",
       "      <th>16</th>\n",
       "      <td>Upgrade</td>\n",
       "      <td>0.169778</td>\n",
       "    </tr>\n",
       "    <tr>\n",
       "      <th>6</th>\n",
       "      <td>RollAdvert</td>\n",
       "      <td>0.113525</td>\n",
       "    </tr>\n",
       "    <tr>\n",
       "      <th>4</th>\n",
       "      <td>Home</td>\n",
       "      <td>0.106937</td>\n",
       "    </tr>\n",
       "    <tr>\n",
       "      <th>9</th>\n",
       "      <td>About</td>\n",
       "      <td>0.094729</td>\n",
       "    </tr>\n",
       "    <tr>\n",
       "      <th>10</th>\n",
       "      <td>Settings</td>\n",
       "      <td>0.057821</td>\n",
       "    </tr>\n",
       "    <tr>\n",
       "      <th>17</th>\n",
       "      <td>Error</td>\n",
       "      <td>0.055068</td>\n",
       "    </tr>\n",
       "    <tr>\n",
       "      <th>21</th>\n",
       "      <td>count_sessions</td>\n",
       "      <td>0.048184</td>\n",
       "    </tr>\n",
       "    <tr>\n",
       "      <th>24</th>\n",
       "      <td>status_200</td>\n",
       "      <td>0.000000</td>\n",
       "    </tr>\n",
       "  </tbody>\n",
       "</table>\n",
       "</div>"
      ],
      "text/plain": [
       "           Feature  Importance\n",
       "12       AddFriend    0.177057\n",
       "3       ThumbsDown    0.176900\n",
       "16         Upgrade    0.169778\n",
       "6       RollAdvert    0.113525\n",
       "4             Home    0.106937\n",
       "9            About    0.094729\n",
       "10        Settings    0.057821\n",
       "17           Error    0.055068\n",
       "21  count_sessions    0.048184\n",
       "24      status_200    0.000000"
      ]
     },
     "execution_count": 80,
     "metadata": {},
     "output_type": "execute_result"
    }
   ],
   "source": [
    "Feature_importance_df = pd.DataFrame()\n",
    "Feature_importance_df['Feature'] = features\n",
    "Feature_importance_df['Importance'] = cvModel_2.bestModel.featureImportances.toArray()\n",
    "Feature_importance_df = Feature_importance_df.sort_values(by='Importance', ascending=False)\n",
    "Feature_importance_df.head(10)"
   ]
  },
  {
   "cell_type": "code",
   "execution_count": 75,
   "metadata": {},
   "outputs": [
    {
     "data": {
      "text/plain": [
       "<bound method Params.getParam of RandomForestClassificationModel (uid=RandomForestClassifier_967a14f277ac) with 10 trees>"
      ]
     },
     "execution_count": 75,
     "metadata": {},
     "output_type": "execute_result"
    }
   ],
   "source": [
    "cvModel_3.bestModel.getParam"
   ]
  },
  {
   "cell_type": "code",
   "execution_count": 81,
   "metadata": {},
   "outputs": [
    {
     "data": {
      "image/png": "[encoded data removed]",
      "text/plain": [
       "<matplotlib.figure.Figure at 0x7f07b43600f0>"
      ]
     },
     "metadata": {
      "needs_background": "light"
     },
     "output_type": "display_data"
    }
   ],
   "source": [
    "indexes = list(Feature_importance_df.Feature)\n",
    "objects = (indexes[0], indexes[1], indexes[2], indexes[3], indexes[4], indexes[5], indexes[6], indexes[7], indexes[8], indexes[9])\n",
    "y_pos = np.arange(len(objects))\n",
    "performance = Feature_importance_df.iloc[:10,1]\n",
    "\n",
    "plt.bar(y_pos, performance, align='center', alpha=0.5)\n",
    "plt.xticks(y_pos, objects, rotation=90)\n",
    "plt.ylabel('Importance')\n",
    "plt.title('Feature Importances')\n",
    "\n",
    "plt.show()"
   ]
  },
  {
   "cell_type": "code",
   "execution_count": 79,
   "metadata": {},
   "outputs": [],
   "source": [
    "#save the best model\n",
    "cvModel_1.bestModel.save(\"bestmodel.model\")"
   ]
  },
  {
   "cell_type": "markdown",
   "metadata": {},
   "source": [
    "The best model F1 score is 71%.\n",
    "In order to further improve the model, one way is to try other classifyers and tuning parameters and run on full dataset.\n",
    "Also other features could be created."
   ]
  },
  {
   "cell_type": "markdown",
   "metadata": {},
   "source": [
    "# Final Steps\n",
    "Clean up your code, adding comments and renaming variables to make the code easier to read and maintain. Refer to the Spark Project Overview page and Data Scientist Capstone Project Rubric to make sure you are including all components of the capstone project and meet all expectations. Remember, this includes thorough documentation in a README file in a Github repository, as well as a web app or blog post."
   ]
  },
  {
   "cell_type": "code",
   "execution_count": null,
   "metadata": {},
   "outputs": [],
   "source": [
    "from subprocess import call\n",
    "call(['python', '-m', 'nbconvert', 'Sparkify.ipynb'])"
   ]
  }
 ],
 "metadata": {
  "kernelspec": {
   "display_name": "Python 3",
   "language": "python",
   "name": "python3"
  },
  "language_info": {
   "codemirror_mode": {
    "name": "ipython",
    "version": 3
   },
   "file_extension": ".py",
   "mimetype": "text/x-python",
   "name": "python",
   "nbconvert_exporter": "python",
   "pygments_lexer": "ipython3",
   "version": "3.6.3"
  }
 },
 "nbformat": 4,
 "nbformat_minor": 2
}
